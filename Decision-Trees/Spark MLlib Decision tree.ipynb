{
 "metadata": {
  "name": "",
  "signature": "sha256:d556ff0b67b9e81b637b0e01ac22e1b8e0220f59d5b29aaac89bbc4ef963935f"
 },
 "nbformat": 3,
 "nbformat_minor": 0,
 "worksheets": [
  {
   "cells": [
    {
     "cell_type": "markdown",
     "metadata": {},
     "source": [
      "# Spark MLlib (Decision tree , Random forests , Gradient Boosted) --Regression\n",
      "## Dataset kaggle-bikesharing\n",
      "### https://www.kaggle.com/c/bike-sharing-demand"
     ]
    },
    {
     "cell_type": "code",
     "collapsed": false,
     "input": [
      "sc"
     ],
     "language": "python",
     "metadata": {},
     "outputs": [
      {
       "output_type": "stream",
       "stream": "stderr",
       "text": []
      },
      {
       "output_type": "stream",
       "stream": "stdout",
       "text": []
      },
      {
       "metadata": {},
       "output_type": "pyout",
       "prompt_number": 1,
       "text": [
        "org.apache.spark.SparkContext@ba0018e"
       ]
      }
     ],
     "prompt_number": 1
    },
    {
     "cell_type": "code",
     "collapsed": false,
     "input": [
      "import org.apache.spark.mllib.linalg._\n",
      "import org.apache.spark.mllib.regression._"
     ],
     "language": "python",
     "metadata": {},
     "outputs": [
      {
       "output_type": "stream",
       "stream": "stderr",
       "text": []
      },
      {
       "output_type": "stream",
       "stream": "stdout",
       "text": []
      },
      {
       "metadata": {},
       "output_type": "pyout",
       "prompt_number": 2,
       "text": [
        "org.apache.spark.SparkContext@ba0018e"
       ]
      }
     ],
     "prompt_number": 2
    },
    {
     "cell_type": "code",
     "collapsed": false,
     "input": [
      "val rawDatain = sc.textFile(\"/Users/wy/Desktop/advance_Spark/train.csv\")"
     ],
     "language": "python",
     "metadata": {},
     "outputs": [
      {
       "output_type": "stream",
       "stream": "stdout",
       "text": []
      },
      {
       "output_type": "stream",
       "stream": "stderr",
       "text": []
      },
      {
       "metadata": {},
       "output_type": "pyout",
       "prompt_number": 7,
       "text": [
        "/Users/wy/Desktop/advance_Spark/train.csv MapPartitionsRDD[7] at textFile at <console>:21"
       ]
      }
     ],
     "prompt_number": 7
    },
    {
     "cell_type": "markdown",
     "metadata": {},
     "source": [
      "### filter csv header"
     ]
    },
    {
     "cell_type": "code",
     "collapsed": false,
     "input": [
      "val header = rawDatain.first"
     ],
     "language": "python",
     "metadata": {},
     "outputs": [
      {
       "output_type": "stream",
       "stream": "stdout",
       "text": []
      },
      {
       "output_type": "stream",
       "stream": "stderr",
       "text": []
      },
      {
       "metadata": {},
       "output_type": "pyout",
       "prompt_number": 8,
       "text": [
        "datetime,season,holiday,workingday,weather,temp,atemp,humidity,windspeed,casual,registered,count"
       ]
      }
     ],
     "prompt_number": 8
    },
    {
     "cell_type": "code",
     "collapsed": false,
     "input": [
      "val rawData = rawDatain.filter(_ != header)"
     ],
     "language": "python",
     "metadata": {},
     "outputs": [
      {
       "output_type": "stream",
       "stream": "stdout",
       "text": []
      },
      {
       "output_type": "stream",
       "stream": "stderr",
       "text": []
      },
      {
       "metadata": {},
       "output_type": "pyout",
       "prompt_number": 9,
       "text": [
        "MapPartitionsRDD[8] at filter at <console>:25"
       ]
      }
     ],
     "prompt_number": 9
    },
    {
     "cell_type": "code",
     "collapsed": false,
     "input": [
      "rawData.take(2)"
     ],
     "language": "python",
     "metadata": {},
     "outputs": [
      {
       "output_type": "stream",
       "stream": "stderr",
       "text": []
      },
      {
       "output_type": "stream",
       "stream": "stdout",
       "text": []
      },
      {
       "metadata": {},
       "output_type": "pyout",
       "prompt_number": 10,
       "text": [
        "Array(2011-01-01 00:00:00,1,0,0,1,9.84,14.395,81,0,3,13,16, 2011-01-01 01:00:00,1,0,0,1,9.02,13.635,80,0,8,32,40)"
       ]
      }
     ],
     "prompt_number": 10
    },
    {
     "cell_type": "markdown",
     "metadata": {},
     "source": [
      "### remove datatime and \n",
      "### Notice MLlib datatype Labeled point https://spark.apache.org/docs/latest/mllib-data-types.html#labeled-point"
     ]
    },
    {
     "cell_type": "code",
     "collapsed": false,
     "input": [
      "val data = rawData.map{ line =>\n",
      "\tval value = line.split(\",\")\n",
      "\tval values = Array(value(1).toDouble,value(2).toDouble,value(3).toDouble,value(4).toDouble,value(5).toDouble,value(6).toDouble,value(7).toDouble,value(8).toDouble,value(9).toDouble,value(10).toDouble,value(11).toDouble)\n",
      "\tval featureVector = Vectors.dense(values.init)\n",
      "\tval label = values.last-1\n",
      "\tLabeledPoint(label,featureVector)\n",
      "}"
     ],
     "language": "python",
     "metadata": {},
     "outputs": [
      {
       "output_type": "stream",
       "stream": "stderr",
       "text": []
      },
      {
       "output_type": "stream",
       "stream": "stdout",
       "text": []
      },
      {
       "metadata": {},
       "output_type": "pyout",
       "prompt_number": 11,
       "text": [
        "MapPartitionsRDD[9] at map at <console>:27"
       ]
      }
     ],
     "prompt_number": 11
    },
    {
     "cell_type": "code",
     "collapsed": false,
     "input": [
      "data.take(2)"
     ],
     "language": "python",
     "metadata": {},
     "outputs": [
      {
       "output_type": "stream",
       "stream": "stderr",
       "text": []
      },
      {
       "output_type": "stream",
       "stream": "stdout",
       "text": []
      },
      {
       "metadata": {},
       "output_type": "pyout",
       "prompt_number": 12,
       "text": [
        "Array((15.0,[1.0,0.0,0.0,1.0,9.84,14.395,81.0,0.0,3.0,13.0]), (39.0,[1.0,0.0,0.0,1.0,9.02,13.635,80.0,0.0,8.0,32.0]))"
       ]
      }
     ],
     "prompt_number": 12
    },
    {
     "cell_type": "code",
     "collapsed": false,
     "input": [
      "val Array(trainData, testData) = data.randomSplit(Array(0.8, 0.2))"
     ],
     "language": "python",
     "metadata": {},
     "outputs": [
      {
       "output_type": "stream",
       "stream": "stderr",
       "text": []
      },
      {
       "output_type": "stream",
       "stream": "stdout",
       "text": []
      },
      {
       "metadata": {},
       "output_type": "pyout",
       "prompt_number": 13,
       "text": [
        "PartitionwiseSampledRDD[11] at randomSplit at <console>:29"
       ]
      }
     ],
     "prompt_number": 13
    },
    {
     "cell_type": "code",
     "collapsed": false,
     "input": [
      "trainData.cache()\n",
      "testData.cache()"
     ],
     "language": "python",
     "metadata": {},
     "outputs": [
      {
       "output_type": "stream",
       "stream": "stdout",
       "text": []
      },
      {
       "output_type": "stream",
       "stream": "stderr",
       "text": []
      },
      {
       "metadata": {},
       "output_type": "pyout",
       "prompt_number": 14,
       "text": [
        "PartitionwiseSampledRDD[11] at randomSplit at <console>:29"
       ]
      }
     ],
     "prompt_number": 14
    },
    {
     "cell_type": "code",
     "collapsed": false,
     "input": [
      "import org.apache.spark.mllib.evaluation._\n",
      "import org.apache.spark.mllib.tree._\n",
      "import org.apache.spark.mllib.tree.model._\n",
      "import org.apache.spark.rdd._"
     ],
     "language": "python",
     "metadata": {},
     "outputs": [
      {
       "output_type": "stream",
       "stream": "stdout",
       "text": []
      },
      {
       "output_type": "stream",
       "stream": "stderr",
       "text": []
      },
      {
       "metadata": {},
       "output_type": "pyout",
       "prompt_number": 15,
       "text": [
        "PartitionwiseSampledRDD[11] at randomSplit at <console>:29"
       ]
      }
     ],
     "prompt_number": 15
    },
    {
     "cell_type": "markdown",
     "metadata": {},
     "source": [
      "### DecisionTree (Regression)"
     ]
    },
    {
     "cell_type": "code",
     "collapsed": false,
     "input": [
      "val categoricalFeaturesInfo = Map[Int, Int]()\n",
      "val impurity = \"variance\"\n",
      "val maxDepth = 5\n",
      "val maxBins = 32"
     ],
     "language": "python",
     "metadata": {},
     "outputs": [
      {
       "output_type": "stream",
       "stream": "stdout",
       "text": []
      },
      {
       "output_type": "stream",
       "stream": "stderr",
       "text": []
      },
      {
       "metadata": {},
       "output_type": "pyout",
       "prompt_number": 16,
       "text": [
        "32"
       ]
      }
     ],
     "prompt_number": 16
    },
    {
     "cell_type": "code",
     "collapsed": false,
     "input": [
      "val model = DecisionTree.trainRegressor(trainData, categoricalFeaturesInfo, impurity,maxDepth, maxBins)"
     ],
     "language": "python",
     "metadata": {},
     "outputs": [
      {
       "output_type": "stream",
       "stream": "stdout",
       "text": []
      },
      {
       "output_type": "stream",
       "stream": "stderr",
       "text": []
      },
      {
       "metadata": {},
       "output_type": "pyout",
       "prompt_number": 17,
       "text": [
        "DecisionTreeModel regressor of depth 5 with 63 nodes"
       ]
      }
     ],
     "prompt_number": 17
    },
    {
     "cell_type": "code",
     "collapsed": false,
     "input": [
      "val labelsAndPredictions = testData.map { point =>\n",
      "  val prediction = model.predict(point.features)\n",
      "  (point.label, prediction)\n",
      "  // (point.features,point.label, prediction)\n",
      "}"
     ],
     "language": "python",
     "metadata": {},
     "outputs": [
      {
       "output_type": "stream",
       "stream": "stdout",
       "text": []
      },
      {
       "output_type": "stream",
       "stream": "stderr",
       "text": []
      },
      {
       "metadata": {},
       "output_type": "pyout",
       "prompt_number": 19,
       "text": [
        "MapPartitionsRDD[31] at map at <console>:45"
       ]
      }
     ],
     "prompt_number": 19
    },
    {
     "cell_type": "code",
     "collapsed": false,
     "input": [
      "val testMSE = labelsAndPredictions.map{ case(v, p) => math.pow((v - p), 2)}.mean()\n",
      "println(\"Test Mean Squared Error = \" + testMSE)\n",
      "println(\"Learned regression tree model:\\n\" + model.toDebugString)"
     ],
     "language": "python",
     "metadata": {},
     "outputs": [
      {
       "output_type": "stream",
       "stream": "stdout",
       "text": [
        "Test Mean Squared Error = 705.3931281033362\n",
        "Learned regression tree model:\n",
        "DecisionTreeModel regressor of depth 5 with 63 nodes\n",
        "  If (feature 9 <= 207.0)\n",
        "   If (feature 9 <= 87.0)\n",
        "    If (feature 9 <= 35.0)\n",
        "     If (feature 9 <= 14.0)\n",
        "      If (feature 9 <= 6.0)\n",
        "       Predict: 3.627329192546584\n",
        "      Else (feature 9 > 6.0)\n",
        "       Predict: 11.460144927536232\n",
        "     Else (feature 9 > 14.0)\n",
        "      If (feature 9 <= 27.0)\n",
        "       Predict: 23.94160583941606\n",
        "      Else (feature 9 > 27.0)\n",
        "       Predict: 36.08270676691729\n",
        "    Else (feature 9 > 35.0)\n",
        "     If (feature 9 <= 66.0)\n",
        "      If (feature 9 <= 46.0)\n",
        "       Predict: 46.820422535211264\n",
        "      Else (feature 9 > 46.0)\n",
        "       Predict: 66.06410256410257\n",
        "     Else (feature 9 > 66.0)\n",
        "      If (feature 8 <= 25.0)\n",
        "       Predict: 85.62679425837321\n",
        "      Else (feature 8 > 25.0)\n",
        "       Predict: 116.21428571428571\n",
        "   Else (feature 9 > 87.0)\n",
        "    If (feature 9 <= 141.0)\n",
        "     If (feature 8 <= 37.0)\n",
        "      If (feature 9 <= 108.0)\n",
        "       Predict: 111.73198198198199\n",
        "      Else (feature 9 > 108.0)\n",
        "       Predict: 139.7277777777778\n",
        "     Else (feature 8 > 37.0)\n",
        "      If (feature 8 <= 98.0)\n",
        "       Predict: 171.31791907514452\n",
        "      Else (feature 8 > 98.0)\n",
        "       Predict: 259.625\n",
        "    Else (feature 9 > 141.0)\n",
        "     If (feature 8 <= 62.0)\n",
        "      If (feature 9 <= 165.0)\n",
        "       Predict: 179.89086859688197\n",
        "      Else (feature 9 > 165.0)\n",
        "       Predict: 214.00183486238532\n",
        "     Else (feature 8 > 62.0)\n",
        "      If (feature 8 <= 124.0)\n",
        "       Predict: 259.0870967741935\n",
        "      Else (feature 8 > 124.0)\n",
        "       Predict: 345.54285714285714\n",
        "  Else (feature 9 > 207.0)\n",
        "   If (feature 9 <= 433.0)\n",
        "    If (feature 8 <= 177.0)\n",
        "     If (feature 9 <= 289.0)\n",
        "      If (feature 8 <= 82.0)\n",
        "       Predict: 281.3866481223922\n",
        "      Else (feature 8 > 82.0)\n",
        "       Predict: 365.67905405405406\n",
        "     Else (feature 9 > 289.0)\n",
        "      If (feature 8 <= 62.0)\n",
        "       Predict: 378.82254196642685\n",
        "      Else (feature 8 > 62.0)\n",
        "       Predict: 451.8471074380165\n",
        "    Else (feature 8 > 177.0)\n",
        "     If (feature 9 <= 289.0)\n",
        "      If (feature 9 <= 262.0)\n",
        "       Predict: 452.47169811320754\n",
        "      Else (feature 9 > 262.0)\n",
        "       Predict: 499.81481481481484\n",
        "     Else (feature 9 > 289.0)\n",
        "      If (feature 9 <= 365.0)\n",
        "       Predict: 567.4622641509434\n",
        "      Else (feature 9 > 365.0)\n",
        "       Predict: 650.7555555555556\n",
        "   Else (feature 9 > 433.0)\n",
        "    If (feature 9 <= 542.0)\n",
        "     If (feature 8 <= 48.0)\n",
        "      If (feature 8 <= 22.0)\n",
        "       Predict: 492.4848484848485\n",
        "      Else (feature 8 > 22.0)\n",
        "       Predict: 510.8142857142857\n",
        "     Else (feature 8 > 48.0)\n",
        "      If (feature 8 <= 177.0)\n",
        "       Predict: 562.1825396825396\n",
        "      Else (feature 8 > 177.0)\n",
        "       Predict: 692.7272727272727\n",
        "    Else (feature 9 > 542.0)\n",
        "     If (feature 8 <= 62.0)\n",
        "      If (feature 6 <= 57.0)\n",
        "       Predict: 636.5333333333333\n",
        "      Else (feature 6 > 57.0)\n",
        "       Predict: 680.8555555555556\n",
        "     Else (feature 8 > 62.0)\n",
        "      If (feature 8 <= 98.0)\n",
        "       Predict: 748.8987341772151\n",
        "      Else (feature 8 > 98.0)\n",
        "       Predict: 802.3898305084746\n",
        "\n"
       ]
      },
      {
       "output_type": "stream",
       "stream": "stderr",
       "text": []
      }
     ],
     "prompt_number": 20
    },
    {
     "cell_type": "code",
     "collapsed": false,
     "input": [
      "for (impurity <- Array(\"variance\")){\n",
      "    for (maxDepth <- Array(3, 5)){\n",
      "        for (maxBins <- Array(16, 32)){\n",
      "            val model = DecisionTree.trainRegressor(trainData,Map[Int,Int](), impurity, maxDepth, maxBins)\n",
      "            val labelsAndPredictions = testData.map { point =>\n",
      "                val prediction = model.predict(point.features)\n",
      "               (point.label, prediction)\n",
      "                // (point.features,point.label, prediction)\n",
      "            }\n",
      "            val testMSE = labelsAndPredictions.map{ case(v, p) => math.pow((v - p), 2)}.mean()\n",
      "            println(((maxDepth, maxBins), testMSE))\n",
      "        }\n",
      "    }\n",
      "}"
     ],
     "language": "python",
     "metadata": {},
     "outputs": [
      {
       "output_type": "stream",
       "stream": "stdout",
       "text": [
        "((3,16),2487.090266972155)\n",
        "((3,32),2031.7394162627231)\n",
        "((5,16),1059.674863424604)\n",
        "((5,32),705.3931281033362)\n"
       ]
      },
      {
       "output_type": "stream",
       "stream": "stderr",
       "text": []
      }
     ],
     "prompt_number": 90
    },
    {
     "cell_type": "code",
     "collapsed": false,
     "input": [
      "// Save model\n",
      "// model.save(sc, \"/Users/wy/Desktop/advance_Spark/model\")\n",
      "// Load model\n",
      "// val sameModel = DecisionTreeModel.load(sc, \"/Users/wy/Desktop/advance_Spark/model\")\n",
      "// avoid incomplete useless val tmp =1 \n",
      "val tmp =1 "
     ],
     "language": "python",
     "metadata": {},
     "outputs": [
      {
       "output_type": "stream",
       "stream": "stdout",
       "text": []
      },
      {
       "output_type": "stream",
       "stream": "stderr",
       "text": []
      },
      {
       "metadata": {},
       "output_type": "pyout",
       "prompt_number": 111,
       "text": [
        "1"
       ]
      }
     ],
     "prompt_number": 111
    },
    {
     "cell_type": "markdown",
     "metadata": {},
     "source": [
      "### RandomForest (Regression)"
     ]
    },
    {
     "cell_type": "code",
     "collapsed": false,
     "input": [
      "import org.apache.spark.mllib.tree.RandomForest\n",
      "import org.apache.spark.mllib.tree.model.RandomForestModel\n",
      "import org.apache.spark.mllib.util.MLUtils"
     ],
     "language": "python",
     "metadata": {},
     "outputs": [
      {
       "output_type": "stream",
       "stream": "stdout",
       "text": []
      },
      {
       "output_type": "stream",
       "stream": "stderr",
       "text": []
      }
     ],
     "prompt_number": 91
    },
    {
     "cell_type": "code",
     "collapsed": false,
     "input": [
      "val categoricalFeaturesInfo = Map[Int, Int]()\n",
      "val numTrees = 3 // Use more in practice.\n",
      "val featureSubsetStrategy = \"auto\" // Let the algorithm choose.\n",
      "val impurity = \"variance\"\n",
      "val maxDepth = 4\n",
      "val maxBins = 32"
     ],
     "language": "python",
     "metadata": {},
     "outputs": [
      {
       "output_type": "stream",
       "stream": "stdout",
       "text": []
      },
      {
       "output_type": "stream",
       "stream": "stderr",
       "text": []
      },
      {
       "metadata": {},
       "output_type": "pyout",
       "prompt_number": 92,
       "text": [
        "32"
       ]
      }
     ],
     "prompt_number": 92
    },
    {
     "cell_type": "code",
     "collapsed": false,
     "input": [
      "val model = RandomForest.trainRegressor(trainData, categoricalFeaturesInfo,numTrees, featureSubsetStrategy, impurity, maxDepth, maxBins)"
     ],
     "language": "python",
     "metadata": {},
     "outputs": [
      {
       "output_type": "stream",
       "stream": "stdout",
       "text": []
      },
      {
       "output_type": "stream",
       "stream": "stderr",
       "text": []
      },
      {
       "metadata": {},
       "output_type": "pyout",
       "prompt_number": 93,
       "text": [
        "TreeEnsembleModel regressor with 3 trees\n"
       ]
      }
     ],
     "prompt_number": 93
    },
    {
     "cell_type": "code",
     "collapsed": false,
     "input": [
      "val labelsAndPredictions = testData.map { point =>\n",
      "  val prediction = model.predict(point.features)\n",
      "  (point.label, prediction)\n",
      "}"
     ],
     "language": "python",
     "metadata": {},
     "outputs": [
      {
       "output_type": "stream",
       "stream": "stdout",
       "text": []
      },
      {
       "output_type": "stream",
       "stream": "stderr",
       "text": []
      },
      {
       "metadata": {},
       "output_type": "pyout",
       "prompt_number": 94,
       "text": [
        "MapPartitionsRDD[278] at map at <console>:52"
       ]
      }
     ],
     "prompt_number": 94
    },
    {
     "cell_type": "code",
     "collapsed": false,
     "input": [
      "labelsAndPredictions.take(2)"
     ],
     "language": "python",
     "metadata": {},
     "outputs": [
      {
       "output_type": "stream",
       "stream": "stderr",
       "text": []
      },
      {
       "output_type": "stream",
       "stream": "stdout",
       "text": []
      },
      {
       "metadata": {},
       "output_type": "pyout",
       "prompt_number": 99,
       "text": [
        "Array((39.0,89.70561804026455), (31.0,32.617074575331))"
       ]
      }
     ],
     "prompt_number": 99
    },
    {
     "cell_type": "code",
     "collapsed": false,
     "input": [
      "val testMSE = labelsAndPredictions.map{ case(v, p) => math.pow((v - p), 2)}.mean()\n",
      "println(\"Test Mean Squared Error = \" + testMSE)\n",
      "println(\"Learned regression forest model:\\n\" + model.toDebugString)"
     ],
     "language": "python",
     "metadata": {},
     "outputs": [
      {
       "output_type": "stream",
       "stream": "stderr",
       "text": []
      },
      {
       "output_type": "stream",
       "stream": "stdout",
       "text": [
        "Test Mean Squared Error = 2150.9217640461657\n",
        "Learned regression forest model:\n",
        "TreeEnsembleModel regressor with 3 trees\n",
        "\n",
        "  Tree 0:\n",
        "    If (feature 8 <= 22.0)\n",
        "     If (feature 0 <= 3.0)\n",
        "      If (feature 8 <= 6.0)\n",
        "       If (feature 9 <= 76.0)\n",
        "        Predict: 20.4469305794607\n",
        "       Else (feature 9 > 76.0)\n",
        "        Predict: 137.444099378882\n",
        "      Else (feature 8 > 6.0)\n",
        "       If (feature 0 <= 1.0)\n",
        "        Predict: 155.48896434634975\n",
        "       Else (feature 0 > 1.0)\n",
        "        Predict: 124.2315668202765\n",
        "     Else (feature 0 > 3.0)\n",
        "      If (feature 2 <= 0.0)\n",
        "       If (feature 9 <= 66.0)\n",
        "        Predict: 29.18421052631579\n",
        "       Else (feature 9 > 66.0)\n",
        "        Predict: 116.30281690140845\n",
        "      Else (feature 2 > 0.0)\n",
        "       If (feature 8 <= 7.0)\n",
        "        Predict: 58.252252252252255\n",
        "       Else (feature 8 > 7.0)\n",
        "        Predict: 247.26012793176972\n",
        "    Else (feature 8 > 22.0)\n",
        "     If (feature 9 <= 289.0)\n",
        "      If (feature 5 <= 30.305)\n",
        "       If (feature 7 <= 11.0014)\n",
        "        Predict: 210.3319209039548\n",
        "       Else (feature 7 > 11.0014)\n",
        "        Predict: 240.0751592356688\n",
        "      Else (feature 5 > 30.305)\n",
        "       If (feature 9 <= 165.0)\n",
        "        Predict: 177.10721649484537\n",
        "       Else (feature 9 > 165.0)\n",
        "        Predict: 315.2970550576184\n",
        "     Else (feature 9 > 289.0)\n",
        "      If (feature 8 <= 71.0)\n",
        "       If (feature 9 <= 542.0)\n",
        "        Predict: 436.7192118226601\n",
        "       Else (feature 9 > 542.0)\n",
        "        Predict: 685.4036697247707\n",
        "      Else (feature 8 > 71.0)\n",
        "       If (feature 2 <= 0.0)\n",
        "        Predict: 549.636690647482\n",
        "       Else (feature 2 > 0.0)\n",
        "        Predict: 627.1045296167248\n",
        "  Tree 1:\n",
        "    If (feature 9 <= 207.0)\n",
        "     If (feature 9 <= 87.0)\n",
        "      If (feature 9 <= 35.0)\n",
        "       If (feature 9 <= 14.0)\n",
        "        Predict: 7.064764841942945\n",
        "       Else (feature 9 > 14.0)\n",
        "        Predict: 27.89620253164557\n",
        "      Else (feature 9 > 35.0)\n",
        "       If (feature 9 <= 55.0)\n",
        "        Predict: 53.377391304347825\n",
        "       Else (feature 9 > 55.0)\n",
        "        Predict: 84.10902255639098\n",
        "     Else (feature 9 > 87.0)\n",
        "      If (feature 9 <= 141.0)\n",
        "       If (feature 9 <= 119.0)\n",
        "        Predict: 126.27770859277709\n",
        "       Else (feature 9 > 119.0)\n",
        "        Predict: 161.79807692307693\n",
        "      Else (feature 9 > 141.0)\n",
        "       If (feature 9 <= 165.0)\n",
        "        Predict: 192.43760683760684\n",
        "       Else (feature 9 > 165.0)\n",
        "        Predict: 239.4345165238678\n",
        "    Else (feature 9 > 207.0)\n",
        "     If (feature 8 <= 82.0)\n",
        "      If (feature 4 <= 14.76)\n",
        "       If (feature 2 <= 0.0)\n",
        "        Predict: 285.9047619047619\n",
        "       Else (feature 2 > 0.0)\n",
        "        Predict: 355.94117647058823\n",
        "      Else (feature 4 > 14.76)\n",
        "       If (feature 9 <= 433.0)\n",
        "        Predict: 333.0328587075575\n",
        "       Else (feature 9 > 433.0)\n",
        "        Predict: 599.9391891891892\n",
        "     Else (feature 8 > 82.0)\n",
        "      If (feature 6 <= 67.0)\n",
        "       If (feature 2 <= 0.0)\n",
        "        Predict: 477.2954091816367\n",
        "       Else (feature 2 > 0.0)\n",
        "        Predict: 565.9469696969697\n",
        "      Else (feature 6 > 67.0)\n",
        "       If (feature 0 <= 1.0)\n",
        "        Predict: 472.0\n",
        "       Else (feature 0 > 1.0)\n",
        "        Predict: 416.6376811594203\n",
        "  Tree 2:\n",
        "    If (feature 9 <= 207.0)\n",
        "     If (feature 8 <= 22.0)\n",
        "      If (feature 8 <= 5.0)\n",
        "       If (feature 8 <= 1.0)\n",
        "        Predict: 17.04337899543379\n",
        "       Else (feature 8 > 1.0)\n",
        "        Predict: 49.50809061488673\n",
        "      Else (feature 8 > 5.0)\n",
        "       If (feature 8 <= 13.0)\n",
        "        Predict: 85.73168724279836\n",
        "       Else (feature 8 > 13.0)\n",
        "        Predict: 117.93499308437067\n",
        "     Else (feature 8 > 22.0)\n",
        "      If (feature 9 <= 141.0)\n",
        "       If (feature 9 <= 98.0)\n",
        "        Predict: 115.70446735395188\n",
        "       Else (feature 9 > 98.0)\n",
        "        Predict: 168.62425447316105\n",
        "      Else (feature 9 > 141.0)\n",
        "       If (feature 8 <= 71.0)\n",
        "        Predict: 213.9335260115607\n",
        "       Else (feature 8 > 71.0)\n",
        "        Predict: 282.31775700934577\n",
        "    Else (feature 9 > 207.0)\n",
        "     If (feature 8 <= 82.0)\n",
        "      If (feature 9 <= 433.0)\n",
        "       If (feature 4 <= 13.12)\n",
        "        Predict: 289.0174418604651\n",
        "       Else (feature 4 > 13.12)\n",
        "        Predict: 330.49524714828897\n",
        "      Else (feature 9 > 433.0)\n",
        "       If (feature 9 <= 542.0)\n",
        "        Predict: 523.684\n",
        "       Else (feature 9 > 542.0)\n",
        "        Predict: 687.9022988505748\n",
        "     Else (feature 8 > 82.0)\n",
        "      If (feature 2 <= 0.0)\n",
        "       If (feature 4 <= 17.22)\n",
        "        Predict: 412.11764705882354\n",
        "       Else (feature 4 > 17.22)\n",
        "        Predict: 470.1958333333333\n",
        "      Else (feature 2 > 0.0)\n",
        "       If (feature 9 <= 542.0)\n",
        "        Predict: 440.4467005076142\n",
        "       Else (feature 9 > 542.0)\n",
        "        Predict: 783.8932038834952\n",
        "\n"
       ]
      }
     ],
     "prompt_number": 108
    },
    {
     "cell_type": "code",
     "collapsed": false,
     "input": [
      "// Save and load model\n",
      "// model.save(sc, \"myModelPath\")\n",
      "// val sameModel = RandomForestModel.load(sc, \"myModelPath\")\n",
      "// avoid incomplete useless val tmp =1 \n",
      "val tmp =1 "
     ],
     "language": "python",
     "metadata": {},
     "outputs": [
      {
       "output_type": "stream",
       "stream": "stderr",
       "text": []
      },
      {
       "output_type": "stream",
       "stream": "stdout",
       "text": []
      },
      {
       "metadata": {},
       "output_type": "pyout",
       "prompt_number": 112,
       "text": [
        "1"
       ]
      }
     ],
     "prompt_number": 112
    },
    {
     "cell_type": "markdown",
     "metadata": {},
     "source": [
      "### GradientBoostedTrees (Regression)"
     ]
    },
    {
     "cell_type": "code",
     "collapsed": false,
     "input": [
      "import org.apache.spark.mllib.tree.GradientBoostedTrees\n",
      "import org.apache.spark.mllib.tree.configuration.BoostingStrategy\n",
      "import org.apache.spark.mllib.tree.model.GradientBoostedTreesModel"
     ],
     "language": "python",
     "metadata": {},
     "outputs": [
      {
       "output_type": "stream",
       "stream": "stderr",
       "text": []
      },
      {
       "output_type": "stream",
       "stream": "stdout",
       "text": []
      }
     ],
     "prompt_number": 110
    },
    {
     "cell_type": "code",
     "collapsed": false,
     "input": [
      "val boostingStrategy = BoostingStrategy.defaultParams(\"Regression\")\n",
      "boostingStrategy.numIterations = 3 \n",
      "boostingStrategy.treeStrategy.maxDepth = 5\n",
      "boostingStrategy.treeStrategy.categoricalFeaturesInfo = Map[Int, Int]()"
     ],
     "language": "python",
     "metadata": {},
     "outputs": [
      {
       "output_type": "stream",
       "stream": "stderr",
       "text": []
      },
      {
       "output_type": "stream",
       "stream": "stdout",
       "text": []
      },
      {
       "metadata": {},
       "output_type": "pyout",
       "prompt_number": 113,
       "text": [
        "Map()"
       ]
      }
     ],
     "prompt_number": 113
    },
    {
     "cell_type": "code",
     "collapsed": false,
     "input": [
      "val model = GradientBoostedTrees.train(trainData, boostingStrategy)"
     ],
     "language": "python",
     "metadata": {},
     "outputs": [
      {
       "output_type": "stream",
       "stream": "stdout",
       "text": []
      },
      {
       "output_type": "stream",
       "stream": "stderr",
       "text": []
      },
      {
       "metadata": {},
       "output_type": "pyout",
       "prompt_number": 114,
       "text": [
        "TreeEnsembleModel regressor with 3 trees\n"
       ]
      }
     ],
     "prompt_number": 114
    },
    {
     "cell_type": "code",
     "collapsed": false,
     "input": [
      "val labelsAndPredictions = testData.map { point =>\n",
      "  val prediction = model.predict(point.features)\n",
      "  (point.label, prediction)\n",
      "}"
     ],
     "language": "python",
     "metadata": {},
     "outputs": [
      {
       "output_type": "stream",
       "stream": "stdout",
       "text": []
      },
      {
       "output_type": "stream",
       "stream": "stderr",
       "text": []
      },
      {
       "metadata": {},
       "output_type": "pyout",
       "prompt_number": 115,
       "text": [
        "MapPartitionsRDD[343] at map at <console>:67"
       ]
      }
     ],
     "prompt_number": 115
    },
    {
     "cell_type": "code",
     "collapsed": false,
     "input": [
      "val testMSE = labelsAndPredictions.map{ case(v, p) => math.pow((v - p), 2)}.mean()\n",
      "println(\"Test Mean Squared Error = \" + testMSE)\n",
      "println(\"Learned regression GBT model:\\n\" + model.toDebugString)"
     ],
     "language": "python",
     "metadata": {},
     "outputs": [
      {
       "output_type": "stream",
       "stream": "stderr",
       "text": []
      },
      {
       "output_type": "stream",
       "stream": "stdout",
       "text": [
        "Test Mean Squared Error = 687.4423958710161\n",
        "Learned regression GBT model:\n",
        "TreeEnsembleModel regressor with 3 trees\n",
        "\n",
        "  Tree 0:\n",
        "    If (feature 9 <= 207.0)\n",
        "     If (feature 9 <= 87.0)\n",
        "      If (feature 9 <= 35.0)\n",
        "       If (feature 9 <= 14.0)\n",
        "        If (feature 9 <= 6.0)\n",
        "         Predict: 3.627329192546584\n",
        "        Else (feature 9 > 6.0)\n",
        "         Predict: 11.460144927536232\n",
        "       Else (feature 9 > 14.0)\n",
        "        If (feature 9 <= 27.0)\n",
        "         Predict: 23.94160583941606\n",
        "        Else (feature 9 > 27.0)\n",
        "         Predict: 36.08270676691729\n",
        "      Else (feature 9 > 35.0)\n",
        "       If (feature 9 <= 66.0)\n",
        "        If (feature 9 <= 46.0)\n",
        "         Predict: 46.820422535211264\n",
        "        Else (feature 9 > 46.0)\n",
        "         Predict: 66.06410256410257\n",
        "       Else (feature 9 > 66.0)\n",
        "        If (feature 8 <= 25.0)\n",
        "         Predict: 85.62679425837321\n",
        "        Else (feature 8 > 25.0)\n",
        "         Predict: 116.21428571428571\n",
        "     Else (feature 9 > 87.0)\n",
        "      If (feature 9 <= 141.0)\n",
        "       If (feature 8 <= 37.0)\n",
        "        If (feature 9 <= 108.0)\n",
        "         Predict: 111.73198198198199\n",
        "        Else (feature 9 > 108.0)\n",
        "         Predict: 139.7277777777778\n",
        "       Else (feature 8 > 37.0)\n",
        "        If (feature 8 <= 98.0)\n",
        "         Predict: 171.31791907514452\n",
        "        Else (feature 8 > 98.0)\n",
        "         Predict: 259.625\n",
        "      Else (feature 9 > 141.0)\n",
        "       If (feature 8 <= 62.0)\n",
        "        If (feature 9 <= 165.0)\n",
        "         Predict: 179.89086859688197\n",
        "        Else (feature 9 > 165.0)\n",
        "         Predict: 214.00183486238532\n",
        "       Else (feature 8 > 62.0)\n",
        "        If (feature 8 <= 124.0)\n",
        "         Predict: 259.0870967741935\n",
        "        Else (feature 8 > 124.0)\n",
        "         Predict: 345.54285714285714\n",
        "    Else (feature 9 > 207.0)\n",
        "     If (feature 9 <= 433.0)\n",
        "      If (feature 8 <= 177.0)\n",
        "       If (feature 9 <= 289.0)\n",
        "        If (feature 8 <= 82.0)\n",
        "         Predict: 281.3866481223922\n",
        "        Else (feature 8 > 82.0)\n",
        "         Predict: 365.67905405405406\n",
        "       Else (feature 9 > 289.0)\n",
        "        If (feature 8 <= 62.0)\n",
        "         Predict: 378.82254196642685\n",
        "        Else (feature 8 > 62.0)\n",
        "         Predict: 451.8471074380165\n",
        "      Else (feature 8 > 177.0)\n",
        "       If (feature 9 <= 289.0)\n",
        "        If (feature 9 <= 262.0)\n",
        "         Predict: 452.47169811320754\n",
        "        Else (feature 9 > 262.0)\n",
        "         Predict: 499.81481481481484\n",
        "       Else (feature 9 > 289.0)\n",
        "        If (feature 9 <= 365.0)\n",
        "         Predict: 567.4622641509434\n",
        "        Else (feature 9 > 365.0)\n",
        "         Predict: 650.7555555555556\n",
        "     Else (feature 9 > 433.0)\n",
        "      If (feature 9 <= 542.0)\n",
        "       If (feature 8 <= 48.0)\n",
        "        If (feature 8 <= 22.0)\n",
        "         Predict: 492.4848484848485\n",
        "        Else (feature 8 > 22.0)\n",
        "         Predict: 510.8142857142857\n",
        "       Else (feature 8 > 48.0)\n",
        "        If (feature 8 <= 177.0)\n",
        "         Predict: 562.1825396825396\n",
        "        Else (feature 8 > 177.0)\n",
        "         Predict: 692.7272727272727\n",
        "      Else (feature 9 > 542.0)\n",
        "       If (feature 8 <= 62.0)\n",
        "        If (feature 6 <= 57.0)\n",
        "         Predict: 636.5333333333333\n",
        "        Else (feature 6 > 57.0)\n",
        "         Predict: 680.8555555555556\n",
        "       Else (feature 8 > 62.0)\n",
        "        If (feature 8 <= 98.0)\n",
        "         Predict: 748.8987341772151\n",
        "        Else (feature 8 > 98.0)\n",
        "         Predict: 802.3898305084746\n",
        "  Tree 1:\n",
        "    If (feature 8 <= 22.0)\n",
        "     If (feature 9 <= 141.0)\n",
        "      If (feature 8 <= 10.0)\n",
        "       If (feature 9 <= 46.0)\n",
        "        If (feature 8 <= 4.0)\n",
        "         Predict: 3.310401153741886\n",
        "        Else (feature 8 > 4.0)\n",
        "         Predict: -5.421068157817625\n",
        "       Else (feature 9 > 46.0)\n",
        "        If (feature 8 <= 5.0)\n",
        "         Predict: 20.567192706268603\n",
        "        Else (feature 8 > 5.0)\n",
        "         Predict: 9.295510080826809\n",
        "      Else (feature 8 > 10.0)\n",
        "       If (feature 9 <= 87.0)\n",
        "        If (feature 8 <= 16.0)\n",
        "         Predict: -9.95230545737753\n",
        "        Else (feature 8 > 16.0)\n",
        "         Predict: -19.325663641916037\n",
        "       Else (feature 9 > 87.0)\n",
        "        If (feature 9 <= 130.0)\n",
        "         Predict: 3.0991419991420166\n",
        "        Else (feature 9 > 130.0)\n",
        "         Predict: -21.744444444444454\n",
        "     Else (feature 9 > 141.0)\n",
        "      If (feature 9 <= 365.0)\n",
        "       If (feature 9 <= 289.0)\n",
        "        If (feature 9 <= 262.0)\n",
        "         Predict: 46.16258052826596\n",
        "        Else (feature 9 > 262.0)\n",
        "         Predict: -15.158907145046076\n",
        "       Else (feature 9 > 289.0)\n",
        "        If (feature 9 <= 325.0)\n",
        "         Predict: 119.20872029648999\n",
        "        Else (feature 9 > 325.0)\n",
        "         Predict: 44.46861334461837\n",
        "      Else (feature 9 > 365.0)\n",
        "       If (feature 9 <= 542.0)\n",
        "        If (feature 9 <= 433.0)\n",
        "         Predict: -53.98348749571781\n",
        "        Else (feature 9 > 433.0)\n",
        "         Predict: 2.7560445508270553E-14\n",
        "       Else (feature 9 > 542.0)\n",
        "        If (feature 0 <= 1.0)\n",
        "         Predict: 208.9111111111112\n",
        "        Else (feature 0 > 1.0)\n",
        "         Predict: 42.73790849673208\n",
        "    Else (feature 8 > 22.0)\n",
        "     If (feature 9 <= 365.0)\n",
        "      If (feature 9 <= 289.0)\n",
        "       If (feature 9 <= 262.0)\n",
        "        If (feature 9 <= 207.0)\n",
        "         Predict: -13.9039846722839\n",
        "        Else (feature 9 > 207.0)\n",
        "         Predict: 5.774199520123213\n",
        "       Else (feature 9 > 262.0)\n",
        "        If (feature 8 <= 177.0)\n",
        "         Predict: -79.09166861079237\n",
        "        Else (feature 8 > 177.0)\n",
        "         Predict: 6.736997790910579E-14\n",
        "      Else (feature 9 > 289.0)\n",
        "       If (feature 9 <= 325.0)\n",
        "        If (feature 8 <= 124.0)\n",
        "         Predict: 82.85094320667717\n",
        "        Else (feature 8 > 124.0)\n",
        "         Predict: 19.643398454033065\n",
        "       Else (feature 9 > 325.0)\n",
        "        If (feature 8 <= 124.0)\n",
        "         Predict: 11.172273738034342\n",
        "        Else (feature 8 > 124.0)\n",
        "         Predict: -48.39306368178768\n",
        "     Else (feature 9 > 365.0)\n",
        "      If (feature 9 <= 433.0)\n",
        "       If (feature 8 <= 177.0)\n",
        "        If (feature 8 <= 124.0)\n",
        "         Predict: -90.7769818343103\n",
        "        Else (feature 8 > 124.0)\n",
        "         Predict: -184.6391184573002\n",
        "       Else (feature 8 > 177.0)\n",
        "        If (feature 7 <= 11.0014)\n",
        "         Predict: 50.17777777777784\n",
        "        Else (feature 7 > 11.0014)\n",
        "         Predict: -25.088888888888825\n",
        "      Else (feature 9 > 433.0)\n",
        "       If (feature 0 <= 2.0)\n",
        "        If (feature 9 <= 542.0)\n",
        "         Predict: 13.742144387598863\n",
        "        Else (feature 9 > 542.0)\n",
        "         Predict: 51.12070153970035\n",
        "       Else (feature 0 > 2.0)\n",
        "        If (feature 9 <= 542.0)\n",
        "         Predict: -6.432493117599564\n",
        "        Else (feature 9 > 542.0)\n",
        "         Predict: -49.29519154873245\n",
        "  Tree 2:\n",
        "    If (feature 8 <= 22.0)\n",
        "     If (feature 9 <= 141.0)\n",
        "      If (feature 8 <= 10.0)\n",
        "       If (feature 9 <= 46.0)\n",
        "        If (feature 8 <= 4.0)\n",
        "         Predict: -3.972481384490268\n",
        "        Else (feature 8 > 4.0)\n",
        "         Predict: 6.5052817893811525\n",
        "       Else (feature 9 > 46.0)\n",
        "        If (feature 8 <= 5.0)\n",
        "         Predict: -24.680631247522324\n",
        "        Else (feature 8 > 5.0)\n",
        "         Predict: -11.154612096992182\n",
        "      Else (feature 8 > 10.0)\n",
        "       If (feature 9 <= 87.0)\n",
        "        If (feature 8 <= 16.0)\n",
        "         Predict: 11.94276654885304\n",
        "        Else (feature 8 > 16.0)\n",
        "         Predict: 23.19079637029924\n",
        "       Else (feature 9 > 87.0)\n",
        "        If (feature 9 <= 130.0)\n",
        "         Predict: -3.7189703989704226\n",
        "        Else (feature 9 > 130.0)\n",
        "         Predict: 26.09333333333334\n",
        "     Else (feature 9 > 141.0)\n",
        "      If (feature 9 <= 365.0)\n",
        "       If (feature 9 <= 289.0)\n",
        "        If (feature 9 <= 262.0)\n",
        "         Predict: -55.395096633919195\n",
        "        Else (feature 9 > 262.0)\n",
        "         Predict: 18.190688574055304\n",
        "       Else (feature 9 > 289.0)\n",
        "        If (feature 9 <= 325.0)\n",
        "         Predict: -143.05046435578816\n",
        "        Else (feature 9 > 325.0)\n",
        "         Predict: -53.362336013542176\n",
        "      Else (feature 9 > 365.0)\n",
        "       If (feature 9 <= 542.0)\n",
        "        If (feature 9 <= 433.0)\n",
        "         Predict: 64.78018499486113\n",
        "        Else (feature 9 > 433.0)\n",
        "         Predict: -2.7560445508270553E-14\n",
        "       Else (feature 9 > 542.0)\n",
        "        If (feature 0 <= 1.0)\n",
        "         Predict: -250.69333333333356\n",
        "        Else (feature 0 > 1.0)\n",
        "         Predict: -51.28549019607853\n",
        "    Else (feature 8 > 22.0)\n",
        "     If (feature 9 <= 365.0)\n",
        "      If (feature 9 <= 289.0)\n",
        "       If (feature 9 <= 262.0)\n",
        "        If (feature 9 <= 207.0)\n",
        "         Predict: 16.68478160674068\n",
        "        Else (feature 9 > 207.0)\n",
        "         Predict: -6.929039424147923\n",
        "       Else (feature 9 > 262.0)\n",
        "        If (feature 8 <= 177.0)\n",
        "         Predict: 94.91000233295094\n",
        "        Else (feature 8 > 177.0)\n",
        "         Predict: 0.0\n",
        "      Else (feature 9 > 289.0)\n",
        "       If (feature 9 <= 325.0)\n",
        "        If (feature 8 <= 124.0)\n",
        "         Predict: -99.42113184801259\n",
        "        Else (feature 8 > 124.0)\n",
        "         Predict: -23.572078144839647\n",
        "       Else (feature 9 > 325.0)\n",
        "        If (feature 8 <= 124.0)\n",
        "         Predict: -13.406728485641175\n",
        "        Else (feature 8 > 124.0)\n",
        "         Predict: 58.071676418145216\n",
        "     Else (feature 9 > 365.0)\n",
        "      If (feature 9 <= 433.0)\n",
        "       If (feature 8 <= 177.0)\n",
        "        If (feature 8 <= 124.0)\n",
        "         Predict: 108.9323782011724\n",
        "        Else (feature 8 > 124.0)\n",
        "         Predict: 221.5669421487602\n",
        "       Else (feature 8 > 177.0)\n",
        "        If (feature 7 <= 11.0014)\n",
        "         Predict: -60.213333333333516\n",
        "        Else (feature 7 > 11.0014)\n",
        "         Predict: 30.106666666666662\n",
        "      Else (feature 9 > 433.0)\n",
        "       If (feature 0 <= 2.0)\n",
        "        If (feature 9 <= 542.0)\n",
        "         Predict: -16.490573265118563\n",
        "        Else (feature 9 > 542.0)\n",
        "         Predict: -61.34484184764051\n",
        "       Else (feature 0 > 2.0)\n",
        "        If (feature 9 <= 542.0)\n",
        "         Predict: 7.718991741119511\n",
        "        Else (feature 9 > 542.0)\n",
        "         Predict: 59.154229858478935\n",
        "\n"
       ]
      }
     ],
     "prompt_number": 116
    },
    {
     "cell_type": "code",
     "collapsed": false,
     "input": [
      "// model.save(sc, \"myModelPath\")\n",
      "// val sameModel = GradientBoostedTreesModel.load(sc, \"myModelPath\")\n",
      "// avoid incomplete useless val tmp =1 \n",
      "val tmp =1 "
     ],
     "language": "python",
     "metadata": {},
     "outputs": [
      {
       "output_type": "stream",
       "stream": "stdout",
       "text": []
      },
      {
       "output_type": "stream",
       "stream": "stderr",
       "text": []
      },
      {
       "metadata": {},
       "output_type": "pyout",
       "prompt_number": 118,
       "text": [
        "1"
       ]
      }
     ],
     "prompt_number": 118
    },
    {
     "cell_type": "markdown",
     "metadata": {},
     "source": [
      "# Reference\n",
      "## Spark MLlib Decision tree\n",
      "###https://spark.apache.org/docs/latest/mllib-decision-tree.html\n",
      "\n",
      "# Book\n",
      "## advanced analysis with Spark\n",
      "\n",
      "# Dataset\n",
      "## kaggle bike-sharing\n",
      "### https://www.kaggle.com/c/bike-sharing-demand"
     ]
    },
    {
     "cell_type": "code",
     "collapsed": false,
     "input": [],
     "language": "python",
     "metadata": {},
     "outputs": []
    }
   ],
   "metadata": {}
  }
 ]
}