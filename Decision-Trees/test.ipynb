{
 "metadata": {
  "name": "",
  "signature": "sha256:1c35dff9c354be5cc9cd35295b678ef98e440727326b274c329145a774fc97fb"
 },
 "nbformat": 3,
 "nbformat_minor": 0,
 "worksheets": [
  {
   "cells": [
    {
     "cell_type": "code",
     "collapsed": false,
     "input": [
      "sc"
     ],
     "language": "python",
     "metadata": {},
     "outputs": [
      {
       "output_type": "stream",
       "stream": "stderr",
       "text": []
      },
      {
       "output_type": "stream",
       "stream": "stdout",
       "text": []
      },
      {
       "metadata": {},
       "output_type": "pyout",
       "prompt_number": 1,
       "text": [
        "org.apache.spark.SparkContext@ba0018e"
       ]
      }
     ],
     "prompt_number": 1
    },
    {
     "cell_type": "code",
     "collapsed": false,
     "input": [
      "import org.apache.spark.mllib.linalg._\n",
      "import org.apache.spark.mllib.regression._"
     ],
     "language": "python",
     "metadata": {},
     "outputs": [
      {
       "output_type": "stream",
       "stream": "stderr",
       "text": []
      },
      {
       "output_type": "stream",
       "stream": "stdout",
       "text": []
      },
      {
       "metadata": {},
       "output_type": "pyout",
       "prompt_number": 2,
       "text": [
        "org.apache.spark.SparkContext@ba0018e"
       ]
      }
     ],
     "prompt_number": 2
    },
    {
     "cell_type": "code",
     "collapsed": false,
     "input": [
      "val rawDatain = sc.textFile(\"/Users/wy/Desktop/advance_Spark/train.csv\")"
     ],
     "language": "python",
     "metadata": {},
     "outputs": [
      {
       "output_type": "stream",
       "stream": "stdout",
       "text": []
      },
      {
       "output_type": "stream",
       "stream": "stderr",
       "text": []
      },
      {
       "metadata": {},
       "output_type": "pyout",
       "prompt_number": 7,
       "text": [
        "/Users/wy/Desktop/advance_Spark/train.csv MapPartitionsRDD[7] at textFile at <console>:21"
       ]
      }
     ],
     "prompt_number": 7
    },
    {
     "cell_type": "code",
     "collapsed": false,
     "input": [
      "val header = rawDatain.first"
     ],
     "language": "python",
     "metadata": {},
     "outputs": [
      {
       "output_type": "stream",
       "stream": "stdout",
       "text": []
      },
      {
       "output_type": "stream",
       "stream": "stderr",
       "text": []
      },
      {
       "metadata": {},
       "output_type": "pyout",
       "prompt_number": 8,
       "text": [
        "datetime,season,holiday,workingday,weather,temp,atemp,humidity,windspeed,casual,registered,count"
       ]
      }
     ],
     "prompt_number": 8
    },
    {
     "cell_type": "code",
     "collapsed": false,
     "input": [
      "val rawData = rawDatain.filter(_ != header)"
     ],
     "language": "python",
     "metadata": {},
     "outputs": [
      {
       "output_type": "stream",
       "stream": "stdout",
       "text": []
      },
      {
       "output_type": "stream",
       "stream": "stderr",
       "text": []
      },
      {
       "metadata": {},
       "output_type": "pyout",
       "prompt_number": 9,
       "text": [
        "MapPartitionsRDD[8] at filter at <console>:25"
       ]
      }
     ],
     "prompt_number": 9
    },
    {
     "cell_type": "code",
     "collapsed": false,
     "input": [
      "rawData.take(2)"
     ],
     "language": "python",
     "metadata": {},
     "outputs": [
      {
       "output_type": "stream",
       "stream": "stderr",
       "text": []
      },
      {
       "output_type": "stream",
       "stream": "stdout",
       "text": []
      },
      {
       "metadata": {},
       "output_type": "pyout",
       "prompt_number": 10,
       "text": [
        "Array(2011-01-01 00:00:00,1,0,0,1,9.84,14.395,81,0,3,13,16, 2011-01-01 01:00:00,1,0,0,1,9.02,13.635,80,0,8,32,40)"
       ]
      }
     ],
     "prompt_number": 10
    },
    {
     "cell_type": "code",
     "collapsed": false,
     "input": [
      "val data = rawData.map{ line =>\n",
      "\tval value = line.split(\",\")\n",
      "\tval values = Array(value(1).toDouble,value(2).toDouble,value(3).toDouble,value(4).toDouble,value(5).toDouble,value(6).toDouble,value(7).toDouble,value(8).toDouble,value(9).toDouble,value(10).toDouble,value(11).toDouble)\n",
      "\tval featureVector = Vectors.dense(values.init)\n",
      "\tval label = values.last-1\n",
      "\tLabeledPoint(label,featureVector)\n",
      "}"
     ],
     "language": "python",
     "metadata": {},
     "outputs": [
      {
       "output_type": "stream",
       "stream": "stderr",
       "text": []
      },
      {
       "output_type": "stream",
       "stream": "stdout",
       "text": []
      },
      {
       "metadata": {},
       "output_type": "pyout",
       "prompt_number": 11,
       "text": [
        "MapPartitionsRDD[9] at map at <console>:27"
       ]
      }
     ],
     "prompt_number": 11
    },
    {
     "cell_type": "code",
     "collapsed": false,
     "input": [
      "data.take(2)"
     ],
     "language": "python",
     "metadata": {},
     "outputs": [
      {
       "output_type": "stream",
       "stream": "stderr",
       "text": []
      },
      {
       "output_type": "stream",
       "stream": "stdout",
       "text": []
      },
      {
       "metadata": {},
       "output_type": "pyout",
       "prompt_number": 12,
       "text": [
        "Array((15.0,[1.0,0.0,0.0,1.0,9.84,14.395,81.0,0.0,3.0,13.0]), (39.0,[1.0,0.0,0.0,1.0,9.02,13.635,80.0,0.0,8.0,32.0]))"
       ]
      }
     ],
     "prompt_number": 12
    },
    {
     "cell_type": "code",
     "collapsed": false,
     "input": [
      "val Array(trainData, testData) = data.randomSplit(Array(0.8, 0.2))"
     ],
     "language": "python",
     "metadata": {},
     "outputs": [
      {
       "output_type": "stream",
       "stream": "stderr",
       "text": []
      },
      {
       "output_type": "stream",
       "stream": "stdout",
       "text": []
      },
      {
       "metadata": {},
       "output_type": "pyout",
       "prompt_number": 13,
       "text": [
        "PartitionwiseSampledRDD[11] at randomSplit at <console>:29"
       ]
      }
     ],
     "prompt_number": 13
    },
    {
     "cell_type": "code",
     "collapsed": false,
     "input": [
      "trainData.cache()\n",
      "testData.cache()"
     ],
     "language": "python",
     "metadata": {},
     "outputs": [
      {
       "output_type": "stream",
       "stream": "stdout",
       "text": []
      },
      {
       "output_type": "stream",
       "stream": "stderr",
       "text": []
      },
      {
       "metadata": {},
       "output_type": "pyout",
       "prompt_number": 14,
       "text": [
        "PartitionwiseSampledRDD[11] at randomSplit at <console>:29"
       ]
      }
     ],
     "prompt_number": 14
    },
    {
     "cell_type": "code",
     "collapsed": false,
     "input": [
      "import org.apache.spark.mllib.evaluation._\n",
      "import org.apache.spark.mllib.tree._\n",
      "import org.apache.spark.mllib.tree.model._\n",
      "import org.apache.spark.rdd._"
     ],
     "language": "python",
     "metadata": {},
     "outputs": [
      {
       "output_type": "stream",
       "stream": "stdout",
       "text": []
      },
      {
       "output_type": "stream",
       "stream": "stderr",
       "text": []
      },
      {
       "metadata": {},
       "output_type": "pyout",
       "prompt_number": 15,
       "text": [
        "PartitionwiseSampledRDD[11] at randomSplit at <console>:29"
       ]
      }
     ],
     "prompt_number": 15
    },
    {
     "cell_type": "code",
     "collapsed": false,
     "input": [
      "val categoricalFeaturesInfo = Map[Int, Int]()\n",
      "val impurity = \"variance\"\n",
      "val maxDepth = 5\n",
      "val maxBins = 32"
     ],
     "language": "python",
     "metadata": {},
     "outputs": [
      {
       "output_type": "stream",
       "stream": "stdout",
       "text": []
      },
      {
       "output_type": "stream",
       "stream": "stderr",
       "text": []
      },
      {
       "metadata": {},
       "output_type": "pyout",
       "prompt_number": 16,
       "text": [
        "32"
       ]
      }
     ],
     "prompt_number": 16
    },
    {
     "cell_type": "code",
     "collapsed": false,
     "input": [
      "val model = DecisionTree.trainRegressor(trainData, categoricalFeaturesInfo, impurity,maxDepth, maxBins)"
     ],
     "language": "python",
     "metadata": {},
     "outputs": [
      {
       "output_type": "stream",
       "stream": "stdout",
       "text": []
      },
      {
       "output_type": "stream",
       "stream": "stderr",
       "text": []
      },
      {
       "metadata": {},
       "output_type": "pyout",
       "prompt_number": 17,
       "text": [
        "DecisionTreeModel regressor of depth 5 with 63 nodes"
       ]
      }
     ],
     "prompt_number": 17
    },
    {
     "cell_type": "code",
     "collapsed": false,
     "input": [
      "val labelsAndPredictions = testData.map { point =>\n",
      "  val prediction = model.predict(point.features)\n",
      "  (point.label, prediction)\n",
      "  // (point.features,point.label, prediction)\n",
      "}"
     ],
     "language": "python",
     "metadata": {},
     "outputs": [
      {
       "output_type": "stream",
       "stream": "stdout",
       "text": []
      },
      {
       "output_type": "stream",
       "stream": "stderr",
       "text": []
      },
      {
       "metadata": {},
       "output_type": "pyout",
       "prompt_number": 19,
       "text": [
        "MapPartitionsRDD[31] at map at <console>:45"
       ]
      }
     ],
     "prompt_number": 19
    },
    {
     "cell_type": "code",
     "collapsed": false,
     "input": [
      "val testMSE = labelsAndPredictions.map{ case(v, p) => math.pow((v - p), 2)}.mean()\n",
      "println(\"Test Mean Squared Error = \" + testMSE)\n",
      "println(\"Learned regression tree model:\\n\" + model.toDebugString)"
     ],
     "language": "python",
     "metadata": {},
     "outputs": [
      {
       "output_type": "stream",
       "stream": "stdout",
       "text": [
        "Test Mean Squared Error = 705.3931281033362\n",
        "Learned regression tree model:\n",
        "DecisionTreeModel regressor of depth 5 with 63 nodes\n",
        "  If (feature 9 <= 207.0)\n",
        "   If (feature 9 <= 87.0)\n",
        "    If (feature 9 <= 35.0)\n",
        "     If (feature 9 <= 14.0)\n",
        "      If (feature 9 <= 6.0)\n",
        "       Predict: 3.627329192546584\n",
        "      Else (feature 9 > 6.0)\n",
        "       Predict: 11.460144927536232\n",
        "     Else (feature 9 > 14.0)\n",
        "      If (feature 9 <= 27.0)\n",
        "       Predict: 23.94160583941606\n",
        "      Else (feature 9 > 27.0)\n",
        "       Predict: 36.08270676691729\n",
        "    Else (feature 9 > 35.0)\n",
        "     If (feature 9 <= 66.0)\n",
        "      If (feature 9 <= 46.0)\n",
        "       Predict: 46.820422535211264\n",
        "      Else (feature 9 > 46.0)\n",
        "       Predict: 66.06410256410257\n",
        "     Else (feature 9 > 66.0)\n",
        "      If (feature 8 <= 25.0)\n",
        "       Predict: 85.62679425837321\n",
        "      Else (feature 8 > 25.0)\n",
        "       Predict: 116.21428571428571\n",
        "   Else (feature 9 > 87.0)\n",
        "    If (feature 9 <= 141.0)\n",
        "     If (feature 8 <= 37.0)\n",
        "      If (feature 9 <= 108.0)\n",
        "       Predict: 111.73198198198199\n",
        "      Else (feature 9 > 108.0)\n",
        "       Predict: 139.7277777777778\n",
        "     Else (feature 8 > 37.0)\n",
        "      If (feature 8 <= 98.0)\n",
        "       Predict: 171.31791907514452\n",
        "      Else (feature 8 > 98.0)\n",
        "       Predict: 259.625\n",
        "    Else (feature 9 > 141.0)\n",
        "     If (feature 8 <= 62.0)\n",
        "      If (feature 9 <= 165.0)\n",
        "       Predict: 179.89086859688197\n",
        "      Else (feature 9 > 165.0)\n",
        "       Predict: 214.00183486238532\n",
        "     Else (feature 8 > 62.0)\n",
        "      If (feature 8 <= 124.0)\n",
        "       Predict: 259.0870967741935\n",
        "      Else (feature 8 > 124.0)\n",
        "       Predict: 345.54285714285714\n",
        "  Else (feature 9 > 207.0)\n",
        "   If (feature 9 <= 433.0)\n",
        "    If (feature 8 <= 177.0)\n",
        "     If (feature 9 <= 289.0)\n",
        "      If (feature 8 <= 82.0)\n",
        "       Predict: 281.3866481223922\n",
        "      Else (feature 8 > 82.0)\n",
        "       Predict: 365.67905405405406\n",
        "     Else (feature 9 > 289.0)\n",
        "      If (feature 8 <= 62.0)\n",
        "       Predict: 378.82254196642685\n",
        "      Else (feature 8 > 62.0)\n",
        "       Predict: 451.8471074380165\n",
        "    Else (feature 8 > 177.0)\n",
        "     If (feature 9 <= 289.0)\n",
        "      If (feature 9 <= 262.0)\n",
        "       Predict: 452.47169811320754\n",
        "      Else (feature 9 > 262.0)\n",
        "       Predict: 499.81481481481484\n",
        "     Else (feature 9 > 289.0)\n",
        "      If (feature 9 <= 365.0)\n",
        "       Predict: 567.4622641509434\n",
        "      Else (feature 9 > 365.0)\n",
        "       Predict: 650.7555555555556\n",
        "   Else (feature 9 > 433.0)\n",
        "    If (feature 9 <= 542.0)\n",
        "     If (feature 8 <= 48.0)\n",
        "      If (feature 8 <= 22.0)\n",
        "       Predict: 492.4848484848485\n",
        "      Else (feature 8 > 22.0)\n",
        "       Predict: 510.8142857142857\n",
        "     Else (feature 8 > 48.0)\n",
        "      If (feature 8 <= 177.0)\n",
        "       Predict: 562.1825396825396\n",
        "      Else (feature 8 > 177.0)\n",
        "       Predict: 692.7272727272727\n",
        "    Else (feature 9 > 542.0)\n",
        "     If (feature 8 <= 62.0)\n",
        "      If (feature 6 <= 57.0)\n",
        "       Predict: 636.5333333333333\n",
        "      Else (feature 6 > 57.0)\n",
        "       Predict: 680.8555555555556\n",
        "     Else (feature 8 > 62.0)\n",
        "      If (feature 8 <= 98.0)\n",
        "       Predict: 748.8987341772151\n",
        "      Else (feature 8 > 98.0)\n",
        "       Predict: 802.3898305084746\n",
        "\n"
       ]
      },
      {
       "output_type": "stream",
       "stream": "stderr",
       "text": []
      }
     ],
     "prompt_number": 20
    },
    {
     "cell_type": "code",
     "collapsed": false,
     "input": [
      "val evaluations = \n",
      "for (impurity <- Array(\"variance\"); maxDepth <- Array(3, 5);maxBins <- Array(16, 32)) yield {\n",
      "    val model = DecisionTree.trainRegressor(trainData,Map[Int,Int](), impurity, maxDepth, maxBins)\n",
      "\n",
      "    val labelsAndPredictions = testData.map { point =>\n",
      "    val prediction = model.predict(point.features)\n",
      "    (point.label, prediction)\n",
      "    // (point.features,point.label, prediction)\n",
      "    }\n",
      "    val testMSE = labelsAndPredictions.map{ case(v, p) => math.pow((v - p), 2)}.mean()\n",
      "    ((maxDepth, maxBins), testMSE)\n",
      "}\n"
     ],
     "language": "python",
     "metadata": {},
     "outputs": [
      {
       "ename": "",
       "evalue": "",
       "output_type": "pyerr",
       "traceback": [
        "incomplete"
       ]
      },
      {
       "output_type": "stream",
       "stream": "stdout",
       "text": []
      }
     ],
     "prompt_number": 53
    },
    {
     "cell_type": "code",
     "collapsed": false,
     "input": [
      "val a = Array(1, 2, 3, 4, 5)"
     ],
     "language": "python",
     "metadata": {},
     "outputs": [
      {
       "output_type": "stream",
       "stream": "stdout",
       "text": []
      },
      {
       "output_type": "stream",
       "stream": "stderr",
       "text": []
      },
      {
       "metadata": {},
       "output_type": "pyout",
       "prompt_number": 69,
       "text": [
        "Array(1, 2, 3, 4, 5)"
       ]
      }
     ],
     "prompt_number": 69
    },
    {
     "cell_type": "code",
     "collapsed": false,
     "input": [
      "for (impurity <- Array(\"variance\")){\n",
      "    for (maxDepth <- Array(3, 5)){\n",
      "        for (maxBins <- Array(16, 32))\n",
      "        yield {\n",
      "        val model = DecisionTree.trainRegressor(trainData,Map[Int,Int](), impurity, maxDepth, maxBins)\n",
      "        val labelsAndPredictions = testData.map { point =>\n",
      "        val prediction = model.predict(point.features)\n",
      "        (point.label, prediction)\n",
      "        // (point.features,point.label, prediction)\n",
      "        }\n",
      "        val testMSE = labelsAndPredictions.map{ case(v, p) => math.pow((v - p), 2)}.mean()\n",
      "        println( (impurity,maxDepth,maxBins,testMSE) )\n",
      "        }\n",
      "    }\n",
      "}"
     ],
     "language": "python",
     "metadata": {},
     "outputs": [
      {
       "output_type": "stream",
       "stream": "stdout",
       "text": [
        "(variance,3,16,2487.090266972155)\n"
       ]
      },
      {
       "output_type": "stream",
       "stream": "stdout",
       "text": [
        "(variance,3,32,2031.7394162627231)\n"
       ]
      },
      {
       "output_type": "stream",
       "stream": "stdout",
       "text": [
        "(variance,5,16,1059.674863424604)\n",
        "(variance,5,32,705.3931281033362)\n"
       ]
      },
      {
       "output_type": "stream",
       "stream": "stderr",
       "text": []
      }
     ],
     "prompt_number": 82
    },
    {
     "cell_type": "code",
     "collapsed": false,
     "input": [],
     "language": "python",
     "metadata": {},
     "outputs": []
    }
   ],
   "metadata": {}
  }
 ]
}